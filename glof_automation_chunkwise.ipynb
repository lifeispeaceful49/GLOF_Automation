{
 "cells": [
  {
   "cell_type": "code",
   "execution_count": null,
   "id": "6e7449da",
   "metadata": {},
   "outputs": [
    {
     "name": "stdout",
     "output_type": "stream",
     "text": [
      "Starting batch 1: ['Sim2', 'Sim3', 'Sim4']\n"
     ]
    },
    {
     "name": "stderr",
     "output_type": "stream",
     "text": [
      "Mapset switched.\n",
      "Mapset switched.\n",
      "Mapset switched.\n"
     ]
    },
    {
     "name": "stdout",
     "output_type": "stream",
     "text": [
      "Batch 1 completed.\n",
      "\n",
      "Starting batch 2: ['Sim5', 'Sim6', 'Sim7']\n"
     ]
    },
    {
     "name": "stderr",
     "output_type": "stream",
     "text": [
      "Mapset switched.\n",
      "Mapset switched.\n",
      "Mapset switched.\n"
     ]
    },
    {
     "name": "stdout",
     "output_type": "stream",
     "text": [
      "Batch 2 completed.\n",
      "\n",
      "Starting batch 3: ['Sim8', 'Sim9', 'Sim10']\n"
     ]
    },
    {
     "name": "stderr",
     "output_type": "stream",
     "text": [
      "Mapset switched.\n",
      "Mapset switched.\n",
      "Mapset switched.\n"
     ]
    },
    {
     "name": "stdout",
     "output_type": "stream",
     "text": [
      "Batch 3 completed.\n",
      "\n",
      "All simulations completed.\n"
     ]
    }
   ],
   "source": [
    "import subprocess\n",
    "import os\n",
    "import re\n",
    "\n",
    "BATCH_SIZE = 3\n",
    "\n",
    "PROJECTS_PATH = os.path.expanduser(\"/home/anubrata/data/PROJECTS/Parameters/Gepangghat/Discharge/Volume\")\n",
    "GISDBASE = os.path.expanduser(\"~/data/SPATIALDATA\")\n",
    "LOCATION_NAME = \"Gepangghat\"\n",
    "PERMANENT_MAPSET = os.path.join(GISDBASE, LOCATION_NAME, \"PERMANENT\")\n",
    "\n",
    "def natural_sort_key(s):\n",
    "    return [int(text) if text.isdigit() else text.lower() for text in re.split(r'(\\d+)', s)]\n",
    "\n",
    "available_dirs = sorted(\n",
    "    [d for d in os.listdir(PROJECTS_PATH) if os.path.isdir(os.path.join(PROJECTS_PATH, d))],\n",
    "    key=natural_sort_key\n",
    ")\n",
    "\n",
    "for b in range(0, len(available_dirs), BATCH_SIZE):\n",
    "    current_batch = available_dirs[b:b+BATCH_SIZE]\n",
    "    print(f\"Starting batch {b//BATCH_SIZE + 1}: {current_batch}\")\n",
    "    processes = []\n",
    "\n",
    "    for folder in current_batch:\n",
    "        mapset_name = f\"Mapset_{folder}\"\n",
    "        sim_folder = os.path.join(PROJECTS_PATH, folder)\n",
    "        shell_script = os.path.join(sim_folder, \"start.sh\")\n",
    "\n",
    "        subprocess.run([\n",
    "            \"grass\",\n",
    "            PERMANENT_MAPSET,\n",
    "            \"--exec\", \"g.mapset\", \"-c\", f\"mapset={mapset_name}\"\n",
    "        ], check=True)\n",
    "\n",
    "        p = subprocess.Popen([\n",
    "            \"gnome-terminal\",\n",
    "            \"--wait\",             \n",
    "            \"--\",\n",
    "            \"bash\", \"-c\",\n",
    "            f'grass {os.path.join(GISDBASE, LOCATION_NAME, mapset_name)} --exec sh {shell_script} {mapset_name}'\n",
    "        ], cwd=sim_folder)\n",
    "        processes.append(p)\n",
    "\n",
    "    for p in processes:\n",
    "        p.wait()\n",
    "\n",
    "    print(f\"Batch {b//BATCH_SIZE + 1} completed.\\n\")\n",
    "\n",
    "print(\"All simulations completed.\")"
   ]
  }
 ],
 "metadata": {
  "kernelspec": {
   "display_name": "Python 3",
   "language": "python",
   "name": "python3"
  },
  "language_info": {
   "codemirror_mode": {
    "name": "ipython",
    "version": 3
   },
   "file_extension": ".py",
   "mimetype": "text/x-python",
   "name": "python",
   "nbconvert_exporter": "python",
   "pygments_lexer": "ipython3",
   "version": "3.10.12"
  }
 },
 "nbformat": 4,
 "nbformat_minor": 5
}
