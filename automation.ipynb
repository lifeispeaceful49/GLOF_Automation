{
 "cells": [
  {
   "cell_type": "code",
   "execution_count": 5,
   "id": "8c7b954b",
   "metadata": {},
   "outputs": [
    {
     "name": "stdout",
     "output_type": "stream",
     "text": [
      "Setting up simulation for: Sim8\n",
      "Launched Sim8 in Mapset_Sim8\n",
      "Selected simulations submitted.\n"
     ]
    },
    {
     "name": "stderr",
     "output_type": "stream",
     "text": [
      "Mapset switched.\n"
     ]
    }
   ],
   "source": [
    "import subprocess\n",
    "import os\n",
    "\n",
    "# Only run simulation in these folders\n",
    "selected_folders = [\"Sim8\"]\n",
    "\n",
    "# Base paths of folders\n",
    "PROJECTS_PATH = os.path.expanduser(\"~/data/PROJECTS/Gepangghat/DEM\")\n",
    "GISDBASE = os.path.expanduser(\"~/data/SPATIALDATA\")\n",
    "LOCATION_NAME = \"Gepangghat\"\n",
    "\n",
    "# Mapset location\n",
    "PERMANENT_MAPSET = os.path.join(GISDBASE, LOCATION_NAME, \"PERMANENT\")\n",
    "\n",
    "# Filter folders that are selected\n",
    "available_dirs = [\n",
    "    d for d in os.listdir(PROJECTS_PATH)\n",
    "    if os.path.isdir(os.path.join(PROJECTS_PATH, d)) and d in selected_folders\n",
    "]\n",
    "\n",
    "if not available_dirs:\n",
    "    print(\"No valid simulation folders\")\n",
    "    exit(1)\n",
    "\n",
    "for i, folder in enumerate(available_dirs):\n",
    "    mapset_name = f\"Mapset_{folder}\"\n",
    "    sim_folder = os.path.join(PROJECTS_PATH, folder)\n",
    "\n",
    "    print(f\"Setting up simulation for: {folder}\")\n",
    "    try:\n",
    "        subprocess.run([\n",
    "            \"grass\",\n",
    "            os.path.join(GISDBASE, LOCATION_NAME, \"PERMANENT\"),\n",
    "            \"--exec\", \"g.mapset\", \"-c\", f\"mapset={mapset_name}\"\n",
    "        ], check=True)\n",
    "    except subprocess.CalledProcessError as e:\n",
    "        print(f\"Failed to create mapset {mapset_name}: {e}\")\n",
    "        continue\n",
    "\n",
    "    shell_script = os.path.join(sim_folder, \"start.sh\")\n",
    "    if not os.path.exists(shell_script):\n",
    "        print(f\"Missing script: {shell_script}\")\n",
    "        continue\n",
    "    grass_cmd = f\"sh {shell_script} {mapset_name}\"\n",
    "\n",
    "    try:\n",
    "        subprocess.Popen([\n",
    "            \"gnome-terminal\", \"--\", \"bash\", \"-c\",\n",
    "            f'grass {os.path.join(GISDBASE, LOCATION_NAME, mapset_name)} --exec {grass_cmd}; exec bash'\n",
    "        ], cwd=sim_folder)\n",
    "        print(f\"Launched {folder} in {mapset_name}\")\n",
    "    except Exception as e:\n",
    "        print(f\"Failed to launch simulation in {mapset_name}: {e}\")\n",
    "\n",
    "print(\"Selected simulations submitted.\")\n"
   ]
  }
 ],
 "metadata": {
  "kernelspec": {
   "display_name": "Python 3",
   "language": "python",
   "name": "python3"
  },
  "language_info": {
   "codemirror_mode": {
    "name": "ipython",
    "version": 3
   },
   "file_extension": ".py",
   "mimetype": "text/x-python",
   "name": "python",
   "nbconvert_exporter": "python",
   "pygments_lexer": "ipython3",
   "version": "3.10.12"
  }
 },
 "nbformat": 4,
 "nbformat_minor": 5
}
